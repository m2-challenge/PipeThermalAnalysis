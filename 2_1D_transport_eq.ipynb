{
 "cells": [
  {
   "cell_type": "markdown",
   "metadata": {},
   "source": [
    "# 1次拡散方程式"
   ]
  },
  {
   "cell_type": "code",
   "execution_count": 26,
   "metadata": {},
   "outputs": [],
   "source": [
    "import numpy as np\n",
    "import matplotlib.pyplot as plt\n",
    "from tqdm import tqdm\n",
    "from PIL import Image\n",
    "import glob\n"
   ]
  },
  {
   "cell_type": "code",
   "execution_count": 27,
   "metadata": {},
   "outputs": [],
   "source": [
    "# init\n",
    "dt = 0.001  # [sec]\n",
    "dx = 0.01  # [m]\n",
    "\n",
    "tnum = 100000\n",
    "\n",
    "xmin, xmax = 0, 1\n",
    "xnum = int((xmax - xmin) / dx + 1)\n",
    "xs = np.linspace(xmin, xmax, xnum)\n",
    "us = np.zeros((tnum, xnum))\n",
    "\n",
    "# 初期条件\n",
    "# 全体がinit_temp度x=1.0で恒温\n",
    "init_temp = 60\n",
    "us[0, :] = init_temp\n",
    "\n",
    "# 時刻1で先が0度になる\n",
    "us[1, 0] = 0"
   ]
  },
  {
   "cell_type": "code",
   "execution_count": 28,
   "metadata": {},
   "outputs": [],
   "source": [
    "def plot(us, it):\n",
    "    plt.plot(xs, us[it, :])\n",
    "    plt.xlabel(\"x\")\n",
    "    plt.ylabel(\"temperature\")\n",
    "\n",
    "def save_fig(us, it, path, ice_h):\n",
    "    fig = plt.figure(facecolor=\"white\", figsize=(5, 8))\n",
    "    plt.plot(us[it, :], xs)\n",
    "    plt.xlabel(\"temperature\")\n",
    "    plt.axvspan(-1, 100, 0, ice_h, color = \"coral\")\n",
    "    plt.ylabel(\"x\")\n",
    "    plt.ylim(0, 1.0)\n",
    "    plt.title(\"t={0} [s]\".format(np.round(it * dt, 10)))\n",
    "    plt.xlim(-1, 100)\n",
    "    fig.savefig(path)\n",
    "    plt.close()"
   ]
  },
  {
   "cell_type": "markdown",
   "metadata": {},
   "source": [
    "## パイプの沈み込む速度を変えてみる"
   ]
  },
  {
   "cell_type": "code",
   "execution_count": 29,
   "metadata": {},
   "outputs": [],
   "source": [
    "mu = 0.02  # 熱拡散係数 [m^2/s]  銅 0.117, 鉄0.022\n",
    "\n",
    "# パイプが沈み込む速度(等速)\n",
    "v_pipe = 0.005  # [m/s]\n",
    "\n",
    "# 安定性条件\n",
    "d = mu * dt / dx**2\n",
    "assert d < 1/2, d"
   ]
  },
  {
   "cell_type": "code",
   "execution_count": 30,
   "metadata": {},
   "outputs": [
    {
     "name": "stderr",
     "output_type": "stream",
     "text": [
      " 26%|██▌       | 26134/100000 [43:03<2:16:57,  8.99it/s]"
     ]
    }
   ],
   "source": [
    "for it in tqdm(range(0, tnum)):\n",
    "    us[it, -1] = init_temp  # x=1.0で恒温\n",
    "\n",
    "    # パイプが沈み込む効果\n",
    "    x_bound = v_pipe * dt * it  # 氷の位置\n",
    "    is_ice = xs < x_bound\n",
    "    us[it-1, is_ice] = 0.0\n",
    "    \n",
    "    if it != 0:\n",
    "        for ix in range(1, xnum-1):\n",
    "            us[it, ix] = us[it-1, ix] + d * (us[it-1, ix+1] - 2 * us[it-1, ix] + us[it-1, ix-1])\n",
    "    save_fig(us=us, it=it, path=\"img/it={0:06}\".format(it), ice_h=x_bound)"
   ]
  },
  {
   "cell_type": "code",
   "execution_count": null,
   "metadata": {},
   "outputs": [
    {
     "name": "stdout",
     "output_type": "stream",
     "text": [
      "['img/it=000.png', 'img/it=100.png', 'img/it=1090.png', 'img/it=1181.png', 'img/it=1272.png', 'img/it=1363.png', 'img/it=1454.png', 'img/it=1545.png', 'img/it=1636.png', 'img/it=1727.png', 'img/it=1818.png', 'img/it=1909.png', 'img/it=200.png', 'img/it=2090.png', 'img/it=2181.png', 'img/it=2272.png', 'img/it=2363.png', 'img/it=2454.png', 'img/it=2545.png', 'img/it=2636.png', 'img/it=2727.png', 'img/it=2818.png', 'img/it=2909.png', 'img/it=300.png', 'img/it=3090.png', 'img/it=3181.png', 'img/it=3272.png', 'img/it=3363.png', 'img/it=3454.png', 'img/it=3545.png', 'img/it=3636.png', 'img/it=3727.png', 'img/it=3818.png', 'img/it=3909.png', 'img/it=400.png', 'img/it=4090.png', 'img/it=4181.png', 'img/it=4272.png', 'img/it=4363.png', 'img/it=4454.png', 'img/it=4545.png', 'img/it=4636.png', 'img/it=4727.png', 'img/it=4818.png', 'img/it=4909.png', 'img/it=500.png', 'img/it=5090.png', 'img/it=5181.png', 'img/it=5272.png', 'img/it=5363.png', 'img/it=5454.png', 'img/it=5545.png', 'img/it=5636.png', 'img/it=5727.png', 'img/it=5818.png', 'img/it=5909.png', 'img/it=600.png', 'img/it=6090.png', 'img/it=6181.png', 'img/it=6272.png', 'img/it=6363.png', 'img/it=6454.png', 'img/it=6545.png', 'img/it=6636.png', 'img/it=6727.png', 'img/it=6818.png', 'img/it=6909.png', 'img/it=700.png', 'img/it=7090.png', 'img/it=7181.png', 'img/it=7272.png', 'img/it=7363.png', 'img/it=7454.png', 'img/it=7545.png', 'img/it=7636.png', 'img/it=7727.png', 'img/it=7818.png', 'img/it=7909.png', 'img/it=800.png', 'img/it=8090.png', 'img/it=8181.png', 'img/it=8272.png', 'img/it=8363.png', 'img/it=8454.png', 'img/it=8545.png', 'img/it=8636.png', 'img/it=8727.png', 'img/it=8818.png', 'img/it=8909.png', 'img/it=900.png', 'img/it=9090.png', 'img/it=9181.png', 'img/it=9272.png', 'img/it=9363.png', 'img/it=9454.png', 'img/it=9545.png', 'img/it=9636.png', 'img/it=9727.png', 'img/it=9818.png', 'img/it=9909.png']\n"
     ]
    }
   ],
   "source": [
    "# animation\n",
    "\n",
    "files = sorted(glob.glob('img/*.png'))[::100]\n",
    "print(files)\n",
    "images = list(map(lambda file : Image.open(file) , files))\n",
    "images[0].save('SUS.gif', save_all=True, \\\n",
    "    append_images=images[1:], fps=100, loop=0)"
   ]
  },
  {
   "cell_type": "code",
   "execution_count": null,
   "metadata": {},
   "outputs": [],
   "source": []
  }
 ],
 "metadata": {
  "interpreter": {
   "hash": "2bced6df99d5afa471869aae62b8322d0a07569da7b393449e6990a08126dea4"
  },
  "kernelspec": {
   "display_name": "Python 3.7.6 64-bit ('myvenv': venv)",
   "name": "python3"
  },
  "language_info": {
   "codemirror_mode": {
    "name": "ipython",
    "version": 3
   },
   "file_extension": ".py",
   "mimetype": "text/x-python",
   "name": "python",
   "nbconvert_exporter": "python",
   "pygments_lexer": "ipython3",
   "version": "3.7.6+"
  },
  "orig_nbformat": 4
 },
 "nbformat": 4,
 "nbformat_minor": 2
}
