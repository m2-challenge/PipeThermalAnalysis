{
 "cells": [
  {
   "cell_type": "markdown",
   "source": [
    "# 1次拡散方程式"
   ],
   "metadata": {}
  },
  {
   "cell_type": "code",
   "execution_count": 6,
   "source": [
    "import numpy as np\n",
    "import matplotlib.pyplot as plt\n",
    "from tqdm import tqdm\n",
    "from PIL import Image\n",
    "import glob\n"
   ],
   "outputs": [],
   "metadata": {}
  },
  {
   "cell_type": "code",
   "execution_count": 7,
   "source": [
    "# init\n",
    "dt = 0.001  # [sec]\n",
    "dx = 0.01  # [m]\n",
    "\n",
    "tnum = 100000\n",
    "\n",
    "xmin, xmax = 0, 1\n",
    "xnum = int((xmax - xmin) / dx + 1)\n",
    "xs = np.linspace(xmin, xmax, xnum)\n",
    "us = np.zeros_like(xs)\n",
    "\n",
    "# 初期条件\n",
    "# 全体がinit_temp度x=1.0で恒温\n",
    "init_temp = 60\n",
    "us[:] = init_temp"
   ],
   "outputs": [],
   "metadata": {}
  },
  {
   "cell_type": "code",
   "execution_count": 8,
   "source": [
    "def plot(us, it):\n",
    "    plt.plot(xs, us[:])\n",
    "    plt.xlabel(\"x\")\n",
    "    plt.ylabel(\"temperature\")\n",
    "\n",
    "def save_fig(us, it, path, ice_h):\n",
    "    fig = plt.figure(facecolor=\"white\", figsize=(5, 8))\n",
    "    plt.plot(us[:], xs)\n",
    "    plt.xlabel(\"temperature\")\n",
    "    plt.axvspan(-1, 100, 0, ice_h, color = \"gray\")\n",
    "    plt.ylabel(\"x\")\n",
    "    plt.ylim(0, 1.0)\n",
    "    plt.title(\"t={0} [s]\".format(np.round(it * dt, 10)))\n",
    "    plt.xlim(-1, 100)\n",
    "    fig.savefig(path)\n",
    "    plt.close()"
   ],
   "outputs": [],
   "metadata": {}
  },
  {
   "cell_type": "markdown",
   "source": [
    "## パイプの沈み込む速度を変えてみる"
   ],
   "metadata": {}
  },
  {
   "cell_type": "code",
   "execution_count": 9,
   "source": [
    "mu = 0.02  # 熱拡散係数 [m^2/s]  銅 0.117, 鉄0.022\n",
    "\n",
    "# パイプが沈み込む速度(等速)\n",
    "v_pipe = 0.005  # [m/s]\n",
    "\n",
    "# 安定性条件\n",
    "d = mu * dt / dx**2\n",
    "assert d < 1/2, d"
   ],
   "outputs": [],
   "metadata": {}
  },
  {
   "cell_type": "code",
   "execution_count": 10,
   "source": [
    "for it in tqdm(range(0, tnum)):\n",
    "    us[-1] = init_temp  \n",
    "    # パイプが沈み込む効果\n",
    "    x_bound = v_pipe * dt * it  # 氷の位置\n",
    "    is_ice = xs <= x_bound\n",
    "    old_us = np.zeros_like(us)\n",
    "    old_us = us\n",
    "    old_us[is_ice] = 0.0\n",
    "    old_us[-1] = init_temp  # x=1.0で恒温\n",
    "    \n",
    "    if it != 0:\n",
    "\n",
    "        for ix in range(1, xnum-1):\n",
    "            us[ix] = old_us[ix] + d * (old_us[ix+1] - 2 * old_us[ix] + old_us[ix-1])\n",
    "    save_fig(us=us, it=it, path=\"img/it={0:06}\".format(it), ice_h=x_bound)"
   ],
   "outputs": [
    {
     "output_type": "stream",
     "name": "stderr",
     "text": [
      " 20%|█▉        | 19848/100000 [17:17<1:06:17, 20.15it/s]"
     ]
    }
   ],
   "metadata": {}
  },
  {
   "cell_type": "code",
   "execution_count": null,
   "source": [
    "# animation\n",
    "\n",
    "files = sorted(glob.glob('img/*.png'))[::100]\n",
    "print(files)\n",
    "images = list(map(lambda file : Image.open(file) , files))\n",
    "images[0].save('SUS.gif', save_all=True, \\\n",
    "    append_images=images[1:], fps=100, loop=0)"
   ],
   "outputs": [
    {
     "output_type": "stream",
     "name": "stdout",
     "text": [
      "['img/it=000.png', 'img/it=100.png', 'img/it=1090.png', 'img/it=1181.png', 'img/it=1272.png', 'img/it=1363.png', 'img/it=1454.png', 'img/it=1545.png', 'img/it=1636.png', 'img/it=1727.png', 'img/it=1818.png', 'img/it=1909.png', 'img/it=200.png', 'img/it=2090.png', 'img/it=2181.png', 'img/it=2272.png', 'img/it=2363.png', 'img/it=2454.png', 'img/it=2545.png', 'img/it=2636.png', 'img/it=2727.png', 'img/it=2818.png', 'img/it=2909.png', 'img/it=300.png', 'img/it=3090.png', 'img/it=3181.png', 'img/it=3272.png', 'img/it=3363.png', 'img/it=3454.png', 'img/it=3545.png', 'img/it=3636.png', 'img/it=3727.png', 'img/it=3818.png', 'img/it=3909.png', 'img/it=400.png', 'img/it=4090.png', 'img/it=4181.png', 'img/it=4272.png', 'img/it=4363.png', 'img/it=4454.png', 'img/it=4545.png', 'img/it=4636.png', 'img/it=4727.png', 'img/it=4818.png', 'img/it=4909.png', 'img/it=500.png', 'img/it=5090.png', 'img/it=5181.png', 'img/it=5272.png', 'img/it=5363.png', 'img/it=5454.png', 'img/it=5545.png', 'img/it=5636.png', 'img/it=5727.png', 'img/it=5818.png', 'img/it=5909.png', 'img/it=600.png', 'img/it=6090.png', 'img/it=6181.png', 'img/it=6272.png', 'img/it=6363.png', 'img/it=6454.png', 'img/it=6545.png', 'img/it=6636.png', 'img/it=6727.png', 'img/it=6818.png', 'img/it=6909.png', 'img/it=700.png', 'img/it=7090.png', 'img/it=7181.png', 'img/it=7272.png', 'img/it=7363.png', 'img/it=7454.png', 'img/it=7545.png', 'img/it=7636.png', 'img/it=7727.png', 'img/it=7818.png', 'img/it=7909.png', 'img/it=800.png', 'img/it=8090.png', 'img/it=8181.png', 'img/it=8272.png', 'img/it=8363.png', 'img/it=8454.png', 'img/it=8545.png', 'img/it=8636.png', 'img/it=8727.png', 'img/it=8818.png', 'img/it=8909.png', 'img/it=900.png', 'img/it=9090.png', 'img/it=9181.png', 'img/it=9272.png', 'img/it=9363.png', 'img/it=9454.png', 'img/it=9545.png', 'img/it=9636.png', 'img/it=9727.png', 'img/it=9818.png', 'img/it=9909.png']\n"
     ]
    }
   ],
   "metadata": {}
  },
  {
   "cell_type": "code",
   "execution_count": null,
   "source": [],
   "outputs": [],
   "metadata": {}
  }
 ],
 "metadata": {
  "interpreter": {
   "hash": "5a92d783737cefe112d3a6e83cfc43fb07c6e69f0f62e083270a03bc6b9075da"
  },
  "kernelspec": {
   "name": "python3",
   "display_name": "Python 3.8.10 64-bit ('myvenv': venv)"
  },
  "language_info": {
   "name": "python",
   "version": "3.8.10",
   "mimetype": "text/x-python",
   "codemirror_mode": {
    "name": "ipython",
    "version": 3
   },
   "pygments_lexer": "ipython3",
   "nbconvert_exporter": "python",
   "file_extension": ".py"
  },
  "orig_nbformat": 4
 },
 "nbformat": 4,
 "nbformat_minor": 2
}