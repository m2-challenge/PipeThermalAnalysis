{
 "cells": [
  {
   "cell_type": "markdown",
   "metadata": {},
   "source": [
    "# 1次元拡散方程式"
   ]
  },
  {
   "cell_type": "code",
   "execution_count": 117,
   "metadata": {},
   "outputs": [],
   "source": [
    "import numpy as np\n",
    "import matplotlib.pyplot as plt\n",
    "from tqdm import tqdm"
   ]
  },
  {
   "cell_type": "code",
   "execution_count": 118,
   "metadata": {},
   "outputs": [],
   "source": [
    "# init\n",
    "mu = 0.04  # 熱拡散係数 [m^2/s]  銅 0.117, 鉄0.022\n",
    "dt = 0.001  # [sec]\n",
    "dx = 0.01  # [m]\n",
    "\n",
    "tnum = 10\n",
    "\n",
    "xmin, xmax = 0, 1\n",
    "xnum = int((xmax - xmin) / dx + 1)\n",
    "xs = np.linspace(xmin, xmax, xnum)\n",
    "us = np.zeros((tnum, xnum))"
   ]
  },
  {
   "cell_type": "code",
   "execution_count": 119,
   "metadata": {},
   "outputs": [],
   "source": [
    "# 安定性条件\n",
    "d = mu * dt / dx**2\n",
    "assert d < 1/2, d"
   ]
  },
  {
   "cell_type": "code",
   "execution_count": 120,
   "metadata": {},
   "outputs": [],
   "source": [
    "# 初期条件\n",
    "# 全体がinit_temp度x=1.0で恒温\n",
    "init_temp = 60\n",
    "us[0, :] = init_temp\n",
    "\n",
    "# パイプが沈み込む速度(等速)\n",
    "v_pipe = 10  # [m/s]\n",
    "\n",
    "# 時刻1で先が0度になる\n",
    "us[1, 0] = 0"
   ]
  },
  {
   "cell_type": "code",
   "execution_count": 121,
   "metadata": {},
   "outputs": [],
   "source": [
    "def plot(us, it):\n",
    "    plt.plot(xs, us[it, :])\n",
    "    plt.xlabel(\"x\")\n",
    "    plt.ylabel(\"temperature\")\n",
    "\n",
    "def save_fig(us, it, path, ice_h):\n",
    "    fig = plt.figure(facecolor=\"white\", figsize=(5, 8))\n",
    "    plt.plot(us[it, :], xs)\n",
    "    plt.xlabel(\"temperature\")\n",
    "    plt.axvspan(-1, 100, 0, ice_h, color = \"coral\")\n",
    "    plt.ylabel(\"x\")\n",
    "    plt.ylim(0, 1.0)\n",
    "    plt.title(\"t={0} [s]\".format(np.round(it * dt, 10)))\n",
    "    plt.xlim(-1, 100)\n",
    "    fig.savefig(path)\n",
    "    plt.close()"
   ]
  },
  {
   "cell_type": "code",
   "execution_count": 122,
   "metadata": {},
   "outputs": [
    {
     "name": "stderr",
     "output_type": "stream",
     "text": [
      "100%|██████████| 10/10 [00:00<00:00, 12.45it/s]\n"
     ]
    }
   ],
   "source": [
    "for it in tqdm(range(0, tnum)):\n",
    "    us[it, -1] = init_temp  # x=1.0で恒温\n",
    "\n",
    "    # パイプが沈み込む効果\n",
    "    x_bound = v_pipe * dt * it  # 氷の位置\n",
    "    is_ice = xs < x_bound\n",
    "    us[it-1, is_ice] = 0.0\n",
    "    \n",
    "    if it != 0:\n",
    "        for ix in range(1, xnum-1):\n",
    "            us[it, ix] = us[it-1, ix] + d * (us[it-1, ix+1] - 2 * us[it-1, ix] + us[it-1, ix-1])\n",
    "    save_fig(us=us, it=it, path=\"img/it={0:03}\".format(it), ice_h=x_bound)"
   ]
  },
  {
   "cell_type": "code",
   "execution_count": 123,
   "metadata": {},
   "outputs": [],
   "source": [
    "# animation\n",
    "from PIL import Image\n",
    "import glob\n",
    "\n",
    "files = sorted(glob.glob('img/*.png'))  \n",
    "images = list(map(lambda file : Image.open(file) , files))\n",
    "images[0].save('animation.gif', save_all=True, \\\n",
    "    append_images=images[1:], fps=100, loop=0)"
   ]
  },
  {
   "cell_type": "markdown",
   "metadata": {},
   "source": [
    "## 一定速度で沈み込んだ時"
   ]
  },
  {
   "cell_type": "markdown",
   "metadata": {},
   "source": []
  }
 ],
 "metadata": {
  "interpreter": {
   "hash": "2bced6df99d5afa471869aae62b8322d0a07569da7b393449e6990a08126dea4"
  },
  "kernelspec": {
   "display_name": "Python 3.7.6 64-bit ('myvenv': venv)",
   "name": "python3"
  },
  "language_info": {
   "codemirror_mode": {
    "name": "ipython",
    "version": 3
   },
   "file_extension": ".py",
   "mimetype": "text/x-python",
   "name": "python",
   "nbconvert_exporter": "python",
   "pygments_lexer": "ipython3",
   "version": "3.7.6+"
  },
  "orig_nbformat": 4
 },
 "nbformat": 4,
 "nbformat_minor": 2
}
