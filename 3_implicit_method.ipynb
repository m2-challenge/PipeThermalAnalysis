{
 "cells": [
  {
   "cell_type": "markdown",
   "source": [
    "# 1次拡散方程式を陰解法で解く"
   ],
   "metadata": {}
  },
  {
   "cell_type": "code",
   "execution_count": 1,
   "source": [
    "import numpy as np\n",
    "import matplotlib.pyplot as plt\n",
    "from tqdm import tqdm\n",
    "from PIL import Image\n",
    "import glob"
   ],
   "outputs": [],
   "metadata": {}
  },
  {
   "cell_type": "code",
   "execution_count": 2,
   "source": [
    "dt = 0.01\n",
    "dx = 0.001\n",
    "tmax = 10 # [s]\n",
    "tnum = int(tmax / dt)\n",
    "print(\"tmax: \", tmax, \"tnum: \", tnum)\n",
    "\n",
    "xmin, xmax = 0, 0.1\n",
    "xnum = int((xmax - xmin) / dx + 1)\n",
    "xs = np.linspace(xmin, xmax, xnum)\n",
    "us = np.zeros_like(xs)\n",
    "\n",
    "init_temp = 60\n",
    "us[:] = init_temp"
   ],
   "outputs": [
    {
     "output_type": "stream",
     "name": "stdout",
     "text": [
      "tmax:  10 tnum:  1000\n"
     ]
    }
   ],
   "metadata": {}
  },
  {
   "cell_type": "code",
   "execution_count": 3,
   "source": [
    "def plot(us, it):\n",
    "    plt.plot(us[:], xs)\n",
    "    plt.ylabel(\"x [m]\")\n",
    "    plt.xlabel(\"temperature\")\n",
    "    plt.xlim(-1, 100)\n",
    "    plt.ylim(0, 0.1)\n",
    "\n",
    "def save_fig(us, it, path, ice_h):\n",
    "    fig = plt.figure(facecolor=\"white\", figsize=(5, 8))\n",
    "    plt.plot(us[:], xs, label=\"temperature\")\n",
    "    plt.xlabel(\"temperature\")\n",
    "    plt.axvspan(-1, 100, 0, ice_h * 10, color = \"gray\", label=\"ice\")\n",
    "    plt.ylabel(\"x [m]\")\n",
    "    plt.ylim(0, 0.1)\n",
    "    plt.title(\"t={0} [s]\".format(np.round(it * dt, 10)))\n",
    "    plt.xlim(-1, 100)\n",
    "    plt.legend()\n",
    "    fig.savefig(path)\n",
    "    plt.close()"
   ],
   "outputs": [],
   "metadata": {}
  },
  {
   "cell_type": "code",
   "execution_count": 4,
   "source": [
    "mu = 0.117  # 熱拡散係数 [m^2/s]  銅 0.117, 鉄0.022\n",
    "\n",
    "# パイプが沈み込む速度(等速)\n",
    "v_pipe = 0.001  # [m/s]\n",
    "\n",
    "r = mu * dt / (dx**2)"
   ],
   "outputs": [],
   "metadata": {}
  },
  {
   "cell_type": "code",
   "execution_count": 5,
   "source": [
    "us[0] = 0 "
   ],
   "outputs": [],
   "metadata": {}
  },
  {
   "cell_type": "code",
   "execution_count": 6,
   "source": [
    "!rm img/*png"
   ],
   "outputs": [],
   "metadata": {}
  },
  {
   "cell_type": "code",
   "execution_count": 7,
   "source": [
    "for it in tqdm(range(0, tnum)):\n",
    "\ta = np.zeros((len(xs), len(xs)))\n",
    "\t# set matrix\n",
    "\tx_bound = v_pipe * dt * it  # 氷の位置\n",
    "\tis_ice = xs < x_bound\n",
    "\tis_ice_index = np.argmin(is_ice)\n",
    "\ta[0, 0], a[-1, -1] = 1.0, 1.0\n",
    "\tus[is_ice] = 0.0\n",
    "\ta[is_ice, is_ice] = 1.0\n",
    "\tfor i in range(is_ice_index, len(xs) -1):\n",
    "\t\ta[i, i-1] = -r\n",
    "\t\ta[i, i] = 1 + 2 * r\n",
    "\t\ta[i, i + 1] = -r\n",
    "\n",
    "\tinv_a = np.linalg.pinv(a)\n",
    "\tnew_us = np.zeros_like(us)\n",
    "\tif it != 0:\n",
    "\t\tnew_us = np.dot(inv_a, us)\n",
    "\t\tus = new_us\n",
    "\t\tsave_fig(us=new_us, it=it, path=\"img/it={0:06}\".format(it), ice_h=x_bound)"
   ],
   "outputs": [
    {
     "output_type": "stream",
     "name": "stderr",
     "text": [
      "100%|██████████| 1000/1000 [01:26<00:00, 11.56it/s]\n"
     ]
    }
   ],
   "metadata": {}
  },
  {
   "cell_type": "code",
   "execution_count": 8,
   "source": [
    "files = sorted(glob.glob('img/*.png'))[::10]\n",
    "images = list(map(lambda file : Image.open(file) , files))\n",
    "images[0].save('copper.gif', save_all=True, \\\n",
    "    append_images=images[1:], fps=100, loop=0)"
   ],
   "outputs": [],
   "metadata": {}
  },
  {
   "cell_type": "code",
   "execution_count": 9,
   "source": [
    "from IPython.display import HTML\n",
    "HTML('<img src=\"SUS.gif\">')"
   ],
   "outputs": [
    {
     "output_type": "execute_result",
     "data": {
      "text/html": [
       "<img src=\"SUS.gif\">"
      ],
      "text/plain": [
       "<IPython.core.display.HTML object>"
      ]
     },
     "metadata": {},
     "execution_count": 9
    }
   ],
   "metadata": {}
  },
  {
   "cell_type": "markdown",
   "source": [
    "## 結果\n",
    "灰色の網掛けは氷。一定速度で氷に入っていった場合を可視化した。横軸は温度、縦軸は長さ。温度勾配が生じる。"
   ],
   "metadata": {}
  }
 ],
 "metadata": {
  "orig_nbformat": 4,
  "language_info": {
   "name": "python",
   "version": "3.8.10",
   "mimetype": "text/x-python",
   "codemirror_mode": {
    "name": "ipython",
    "version": 3
   },
   "pygments_lexer": "ipython3",
   "nbconvert_exporter": "python",
   "file_extension": ".py"
  },
  "kernelspec": {
   "name": "python3",
   "display_name": "Python 3.8.10 64-bit ('myvenv': venv)"
  },
  "interpreter": {
   "hash": "5a92d783737cefe112d3a6e83cfc43fb07c6e69f0f62e083270a03bc6b9075da"
  }
 },
 "nbformat": 4,
 "nbformat_minor": 2
}